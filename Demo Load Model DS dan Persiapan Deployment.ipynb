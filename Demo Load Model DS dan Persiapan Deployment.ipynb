{
 "cells": [
  {
   "cell_type": "markdown",
   "id": "4e788bc1",
   "metadata": {},
   "source": [
    "## The Story\n",
    "Pada materi sebelumnya teman - teman sudah menonton video - video Intro to Domain, salah satunya adalah **[Video Intro to domain Data Science](https://drive.google.com/file/d/16zY-QwIsq0YTlGIC-xARTlPTSx5MpazV/view?usp=sharing)** di mana teman - teman mengikuti proses pembuatan model yang dapat memprediksi apakah karyawan akan resign dari suatu perusahaan atau tidak.\n",
    "\n",
    "Pada materi kali ini kita akan mencoba **menggunakan model yang sudah di-train tersebut untuk digunakan pada proses prediksi** menggunakan data baru yang akan diinput oleh user.\n",
    "\n",
    "\n",
    "👩‍💻: \"Mantap, model udah selesai dibuat nih. Tinggal kasih ke tim deployment untuk deploy modelnya jadi aplikasi siap pakai\", ujar tim Model Developer.\n",
    "\n",
    "Model developer pun mengirimkan file - file yang dibutuhkan kepada tim deployment. File - file tersebut diantaranya yaitu file model itu sendiri (`model_ds.pkl`) dan file preprocessing datanya (`scaler_ds.pkl`).\n",
    "\n",
    "\n",
    "👨‍💻: \"Oke. File model udah ada, file preprocessing juga udah. Tapi gimana cara pakenya? Datanya apa aja? Apa aja module python yang dipake saat development dan versinya berapa?\" Tim deployment pun bertanya kepada tim Model Developer dan meminta notebook proses develop model yang di-train menggunakan Google Colab.\n",
    "\n",
    "\n",
    "\n",
    "👩‍💻: \"**[Ini file notebooknya](https://colab.research.google.com/drive/1y_53BuBKKBRz3udt2MCVUO2b_yBVkT9f?usp=sharing)**, Mas. Kalau ada yang mau ditanyain jangan sungkan - sungkan yaa\".\n",
    "\n",
    "\n",
    "Tim Deployment pun mencoba menggunakan file `model_ds.pkl` dan `scaler_ds.pkl` untuk proses prediksi. Tim deployment me-load file - file tersebut menggunakan Jupyter Notebook pada komputer / laptopnya untuk proses deployment.\n"
   ]
  },
  {
   "cell_type": "code",
   "execution_count": 1,
   "id": "5e0eca7f",
   "metadata": {},
   "outputs": [],
   "source": [
    "# Import sklearn karena di notebook menggunakan sklearn untuk pembuatan model. \n",
    "import sklearn\n",
    "\n",
    "# Import pickle untuk load file model_ds.pkl dan scaler_ds.pkl\n",
    "import pickle"
   ]
  },
  {
   "cell_type": "code",
   "execution_count": 2,
   "id": "ec9f1616",
   "metadata": {},
   "outputs": [],
   "source": [
    "# Import semua deh\n",
    "model = pickle.load(open(\"model_ds.pkl\", \"rb\"))\n",
    "scaler = pickle.load(open(\"scaler_ds.pkl\", \"rb\"))"
   ]
  },
  {
   "cell_type": "markdown",
   "id": "a06ee1de",
   "metadata": {},
   "source": [
    "👨‍💻: \"Waduh, ada warning nih, versi `sklearn` pas develop model sama versi `sklearn` lokal yang ada di laptop kita ternyata beda. Lanjut dulu deh asal cuma warning, bukan error.\""
   ]
  },
  {
   "cell_type": "code",
   "execution_count": 3,
   "id": "c868ddcc",
   "metadata": {},
   "outputs": [
    {
     "name": "stdout",
     "output_type": "stream",
     "text": [
      "Package              Version\n",
      "-------------------- ---------\n",
      "argon2-cffi          21.3.0\n",
      "argon2-cffi-bindings 21.2.0\n",
      "asttokens            2.0.5\n",
      "attrs                21.4.0\n",
      "backcall             0.2.0\n",
      "beautifulsoup4       4.11.1\n",
      "bleach               4.1.0\n",
      "certifi              2022.9.14\n",
      "cffi                 1.15.1\n",
      "colorama             0.4.5\n",
      "debugpy              1.5.1\n",
      "decorator            5.1.1\n",
      "defusedxml           0.7.1\n",
      "entrypoints          0.4\n",
      "executing            0.8.3\n",
      "fastjsonschema       2.16.2\n",
      "importlib-resources  5.2.0\n",
      "ipykernel            6.15.2\n",
      "ipython              8.4.0\n",
      "ipython-genutils     0.2.0\n",
      "jedi                 0.18.1\n",
      "Jinja2               3.0.3\n",
      "joblib               1.1.0\n",
      "jsonschema           4.4.0\n",
      "jupyter_client       7.3.5\n",
      "jupyter-core         4.10.0\n",
      "jupyterlab-pygments  0.1.2\n",
      "MarkupSafe           2.1.1\n",
      "matplotlib-inline    0.1.6\n",
      "mistune              0.8.4\n",
      "mkl-fft              1.3.1\n",
      "mkl-random           1.2.2\n",
      "mkl-service          2.4.0\n",
      "nb-conda-kernels     2.3.1\n",
      "nbclient             0.5.13\n",
      "nbconvert            6.4.4\n",
      "nbformat             5.5.0\n",
      "nest-asyncio         1.5.5\n",
      "notebook             6.4.12\n",
      "numpy                1.21.5\n",
      "packaging            21.3\n",
      "pandocfilters        1.5.0\n",
      "parso                0.8.3\n",
      "pickleshare          0.7.5\n",
      "pip                  22.1.2\n",
      "prometheus-client    0.14.1\n",
      "prompt-toolkit       3.0.20\n",
      "psutil               5.9.0\n",
      "pure-eval            0.2.2\n",
      "pycparser            2.21\n",
      "Pygments             2.11.2\n",
      "pyparsing            3.0.9\n",
      "pyrsistent           0.18.0\n",
      "python-dateutil      2.8.2\n",
      "pywin32              302\n",
      "pywinpty             2.0.2\n",
      "pyzmq                23.2.0\n",
      "scikit-learn         1.0.2\n",
      "scipy                1.7.3\n",
      "Send2Trash           1.8.0\n",
      "setuptools           63.4.1\n",
      "six                  1.16.0\n",
      "soupsieve            2.3.1\n",
      "stack-data           0.2.0\n",
      "terminado            0.13.1\n",
      "testpath             0.6.0\n",
      "threadpoolctl        2.2.0\n",
      "tornado              6.2\n",
      "traitlets            5.1.1\n",
      "typing_extensions    4.3.0\n",
      "wcwidth              0.2.5\n",
      "webencodings         0.5.1\n",
      "wheel                0.37.1\n",
      "wincertstore         0.2\n",
      "zipp                 3.8.0\n"
     ]
    }
   ],
   "source": [
    "# Nge-list versi module yang ada di komputer untuk ngecek versi sklearn dan pickle yang dipakai untuk prediksi\n",
    "!pip list"
   ]
  },
  {
   "cell_type": "markdown",
   "id": "f63d22c2",
   "metadata": {},
   "source": [
    "👨‍💻: \"scikit-learn versi 1.1.1, pickleshare versi 0.7.5 kalo yang di local, Cek versi module python yang ada **[di google colab](https://colab.research.google.com/drive/1y_53BuBKKBRz3udt2MCVUO2b_yBVkT9f?usp=sharing)** dulu deh.\"\n",
    "\n",
    "👨‍💻: \"Wah ternyata scikit-learn versi 1.0.2, pickleshare versi 0.7.5 kalo yang di Google Colab\"\n",
    "\n",
    "Tim deployment pun menginstall library / module `sklearn` versi 1.0.2 di environment baru yang sesuai dengan versi yang ada di google colab menggunakan perintah berikut pada terminal (CMD atau git bash).\n",
    "\n",
    "```bash\n",
    "conda create -n prediksi-karyawan-resign python=3.8 scikit-learn=1.0.2 nb_conda_kernels\n",
    "conda activate prediksi-karyawan-resign\n",
    "jupyter notebook\n",
    "```\n",
    "perintah di atas dijalankan baris per baris"
   ]
  },
  {
   "cell_type": "code",
   "execution_count": 4,
   "id": "c5d1ba51",
   "metadata": {},
   "outputs": [
    {
     "data": {
      "text/plain": [
       "DecisionTreeClassifier(max_depth=5, max_leaf_nodes=9, random_state=42)"
      ]
     },
     "execution_count": 4,
     "metadata": {},
     "output_type": "execute_result"
    }
   ],
   "source": [
    "# Cek model\n",
    "model"
   ]
  },
  {
   "cell_type": "code",
   "execution_count": 5,
   "id": "9ead3945",
   "metadata": {},
   "outputs": [
    {
     "data": {
      "text/plain": [
       "StandardScaler()"
      ]
     },
     "execution_count": 5,
     "metadata": {},
     "output_type": "execute_result"
    }
   ],
   "source": [
    "# Cek scaler\n",
    "scaler"
   ]
  },
  {
   "cell_type": "markdown",
   "id": "6916c0f6",
   "metadata": {},
   "source": [
    "👨‍💻: \"Mantab, `model` dan `scaler` udah berhasil di load. Saatnya coba _predict_\""
   ]
  },
  {
   "cell_type": "code",
   "execution_count": 6,
   "id": "8d836b27",
   "metadata": {},
   "outputs": [
    {
     "data": {
      "text/plain": [
       "[[0.37, 3, 0, 0, 157]]"
      ]
     },
     "execution_count": 6,
     "metadata": {},
     "output_type": "execute_result"
    }
   ],
   "source": [
    "# Cobain pakai data prediksi. Data ini nantinya akan didapatkan \n",
    "# dari form aplikasi flask. Nanti akan dipelajari lebih lanjut\n",
    "# di domain Technical Skills\n",
    "\n",
    "# Data prediksi ini disamakan dengan data contoh prediksi di google colab\n",
    "tingkat_kepuasan = 37 / 100\n",
    "lama_bekerja = 3\n",
    "kecelakaan_kerja = 0\n",
    "gaji = 0\n",
    "jam_kerja_per_bulan = 157\n",
    "\n",
    "# Data dibuat 2 dimensi untuk proses prediksi\n",
    "data = [[tingkat_kepuasan, lama_bekerja, kecelakaan_kerja, gaji, jam_kerja_per_bulan]]\n",
    "\n",
    "# Print data\n",
    "data"
   ]
  },
  {
   "cell_type": "markdown",
   "id": "308a94ce",
   "metadata": {},
   "source": [
    "👨‍💻: \"Ok, datanya udah siap di-scaling\""
   ]
  },
  {
   "cell_type": "code",
   "execution_count": 7,
   "id": "8298733c",
   "metadata": {},
   "outputs": [
    {
     "data": {
      "text/plain": [
       "array([[-1.07789773, -0.28169781, -0.4291824 , -0.94877465, -0.90035548]])"
      ]
     },
     "execution_count": 7,
     "metadata": {},
     "output_type": "execute_result"
    }
   ],
   "source": [
    "# Karena data pada saat training dilakukan preprocessing\n",
    "# yaitu proses scaling, data input pun harus di-scaling\n",
    "scaled_data = scaler.transform(data)\n",
    "\n",
    "# Cek hasil scaling\n",
    "scaled_data"
   ]
  },
  {
   "cell_type": "markdown",
   "id": "d30c3fec",
   "metadata": {},
   "source": [
    "👨‍💻: \"Ok, datanya udah siap dipakai untuk prediksi\""
   ]
  },
  {
   "cell_type": "code",
   "execution_count": 8,
   "id": "084e9976",
   "metadata": {},
   "outputs": [
    {
     "name": "stdout",
     "output_type": "stream",
     "text": [
      "[1]\n"
     ]
    },
    {
     "data": {
      "text/plain": [
       "array([[0.11756757, 0.88243243]])"
      ]
     },
     "execution_count": 8,
     "metadata": {},
     "output_type": "execute_result"
    }
   ],
   "source": [
    "print(model.predict(scaled_data)) # Resign / Tidak resign\n",
    "model.predict_proba(scaled_data) # Nilai probalitas, ambil yang maksimalnya."
   ]
  },
  {
   "cell_type": "code",
   "execution_count": 9,
   "id": "b894fd17",
   "metadata": {},
   "outputs": [
    {
     "name": "stdout",
     "output_type": "stream",
     "text": [
      "Diprediksi 88.24% Resign\n"
     ]
    }
   ],
   "source": [
    "is_resign = model.predict(scaled_data).flatten()\n",
    "nilai_kepercayaan = max(model.predict_proba(scaled_data).flatten()) * 100 # dikali 100 persen\n",
    "\n",
    "result = \"\"\n",
    "if is_resign == 1:\n",
    "    result = \"Resign\"\n",
    "else:\n",
    "    result = \"Tidak Resign\"\n",
    "    \n",
    "\n",
    "print(f\"Diprediksi {nilai_kepercayaan:.2f}% {result}\")"
   ]
  },
  {
   "cell_type": "markdown",
   "id": "cb41a8bf",
   "metadata": {},
   "source": [
    "👨‍💻: \"Ok, mantap. Udah sama dengan yang ada di colab. Siap diintegrasiin sama pakai Flask deh\""
   ]
  },
  {
   "cell_type": "markdown",
   "id": "1787b516",
   "metadata": {},
   "source": [
    "## Let's Practice!\n",
    "1. Install nb_conda_kernels di environment `base` menggunakan perintah berikut!\n",
    "    - `conda activate base`\n",
    "   \n",
    "    - `conda install nb_conda_kernels`\n",
    "   \n",
    "   \n",
    "2. Buat Environment baru dengan nama `prediksi-karyawan-resign`, install juga `nb_conda_kernels`, `python versi 3.8`, dan `scikit-learn versi 1.0.2`!\n",
    "\n",
    "\n",
    "3. Jalankan Notebook ini menggunakan environment `prediksi-karyawan-resign`!\n",
    "\n",
    "\n",
    "4. Pastikan warning karena perbedaan versi module/library sudah tidak ada!"
   ]
  }
 ],
 "metadata": {
  "kernelspec": {
   "display_name": "Python [conda env:prediksi-karyawan-resign] *",
   "language": "python",
   "name": "conda-env-prediksi-karyawan-resign-py"
  },
  "language_info": {
   "codemirror_mode": {
    "name": "ipython",
    "version": 3
   },
   "file_extension": ".py",
   "mimetype": "text/x-python",
   "name": "python",
   "nbconvert_exporter": "python",
   "pygments_lexer": "ipython3",
   "version": "3.8.13"
  }
 },
 "nbformat": 4,
 "nbformat_minor": 5
}
