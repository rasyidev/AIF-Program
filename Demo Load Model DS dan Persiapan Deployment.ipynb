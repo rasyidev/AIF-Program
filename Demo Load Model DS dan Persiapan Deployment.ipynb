{
 "cells": [
  {
   "cell_type": "markdown",
   "id": "0011cc21",
   "metadata": {},
   "source": [
    "## The Story\n",
    "Pada materi sebelumnya teman - teman sudah menonton video - video Intro to Domain, salah satunya adalah **[Video Intro to domain Data Science](https://drive.google.com/file/d/16zY-QwIsq0YTlGIC-xARTlPTSx5MpazV/view?usp=sharing)** di mana teman - teman mengikuti proses pembuatan model yang dapat memprediksi apakah karyawan akan resign dari suatu perusahaan atau tidak.\n",
    "\n",
    "Pada materi kali ini kita akan mencoba **menggunakan model yang sudah di-train tersebut untuk digunakan pada proses prediksi** menggunakan data baru yang akan diinput oleh user.\n",
    "\n",
    "\n",
    "👩‍💻: \"Mantap, model udah selesai dibuat nih. Tinggal kasih ke tim deployment untuk deploy modelnya jadi aplikasi siap pakai\", ujar tim Model Developer.\n",
    "\n",
    "Model developer pun mengirimkan file - file yang dibutuhkan kepada tim deployment. File - file tersebut diantaranya yaitu file model itu sendiri (`model_ds.pkl`) dan file preprocessing datanya (`scaler_ds.pkl`).\n",
    "\n",
    "\n",
    "👨‍💻: \"Oke. File model udah ada, file preprocessing juga udah. Tapi gimana cara pakenya? Datanya apa aja? Apa aja module python yang dipake saat development dan versinya berapa?\" Tim deployment pun bertanya kepada tim Model Developer dan meminta notebook proses develop model yang di-train menggunakan Google Colab.\n",
    "\n",
    "\n",
    "\n",
    "👩‍💻: \"**[Ini file notebooknya](https://colab.research.google.com/drive/1y_53BuBKKBRz3udt2MCVUO2b_yBVkT9f?usp=sharing)**, Mas. Kalau ada yang mau ditanyain jangan sungkan - sungkan yaa\".\n",
    "\n",
    "\n",
    "Tim Deployment pun mencoba menggunakan file `model_ds.pkl` dan `scaler_ds.pkl` untuk proses prediksi. Tim deployment me-load file - file tersebut menggunakan Jupyter Notebook pada komputer / laptopnya untuk proses deployment.\n"
   ]
  },
  {
   "cell_type": "code",
   "execution_count": 77,
   "id": "e5fdac10",
   "metadata": {},
   "outputs": [],
   "source": [
    "# Import sklearn karena di notebook menggunakan sklearn untuk pembuatan model. \n",
    "import sklearn\n",
    "\n",
    "# Import pickle untuk load file model_ds.pkl dan scaler_ds.pkl\n",
    "import pickle"
   ]
  },
  {
   "cell_type": "code",
   "execution_count": 76,
   "id": "90837b4b",
   "metadata": {},
   "outputs": [
    {
     "name": "stderr",
     "output_type": "stream",
     "text": [
      "C:\\Users\\Habib Abdurrasyid\\miniconda3\\lib\\site-packages\\sklearn\\base.py:329: UserWarning: Trying to unpickle estimator DecisionTreeClassifier from version 1.0.2 when using version 1.1.1. This might lead to breaking code or invalid results. Use at your own risk. For more info please refer to:\n",
      "https://scikit-learn.org/stable/model_persistence.html#security-maintainability-limitations\n",
      "  warnings.warn(\n",
      "C:\\Users\\Habib Abdurrasyid\\miniconda3\\lib\\site-packages\\sklearn\\base.py:329: UserWarning: Trying to unpickle estimator StandardScaler from version 1.0.2 when using version 1.1.1. This might lead to breaking code or invalid results. Use at your own risk. For more info please refer to:\n",
      "https://scikit-learn.org/stable/model_persistence.html#security-maintainability-limitations\n",
      "  warnings.warn(\n"
     ]
    }
   ],
   "source": [
    "# Import semua deh\n",
    "model = pickle.load(open(\"model_ds.pkl\", \"rb\"))\n",
    "scaler = pickle.load(open(\"scaler_ds.pkl\", \"rb\"))"
   ]
  },
  {
   "cell_type": "markdown",
   "id": "79cc24ce",
   "metadata": {},
   "source": [
    "👨‍💻: \"Waduh, ada warning nih, versi `sklearn` pas develop model sama versi `sklearn` lokal yang ada di laptop kita ternyata beda. Lanjut dulu deh asal cuma warning, bukan error.\""
   ]
  },
  {
   "cell_type": "code",
   "execution_count": 75,
   "id": "f9ec1503",
   "metadata": {},
   "outputs": [
    {
     "name": "stdout",
     "output_type": "stream",
     "text": [
      "Package                 Version\n",
      "----------------------- ---------------------\n",
      "absl-py                 1.1.0\n",
      "argon2-cffi             21.3.0\n",
      "argon2-cffi-bindings    21.2.0\n",
      "asttokens               2.0.5\n",
      "attrs                   21.4.0\n",
      "backcall                0.2.0\n",
      "bleach                  4.1.0\n",
      "brotlipy                0.7.0\n",
      "cachetools              5.2.0\n",
      "certifi                 2022.6.15\n",
      "cffi                    1.15.0\n",
      "charset-normalizer      2.0.4\n",
      "click                   8.0.4\n",
      "colorama                0.4.4\n",
      "conda                   4.13.0\n",
      "conda-package-handling  1.8.0\n",
      "cryptography            36.0.0\n",
      "cycler                  0.11.0\n",
      "debugpy                 1.5.1\n",
      "decorator               5.1.1\n",
      "defusedxml              0.7.1\n",
      "docopt                  0.6.2\n",
      "entrypoints             0.3\n",
      "executing               0.8.3\n",
      "Flask                   2.1.3\n",
      "fonttools               4.33.3\n",
      "google-auth             2.7.0\n",
      "google-auth-oauthlib    0.4.6\n",
      "grpcio                  1.46.3\n",
      "idna                    3.3\n",
      "importlib-metadata      4.11.3\n",
      "ipykernel               6.9.1\n",
      "ipython                 8.1.1\n",
      "ipython-genutils        0.2.0\n",
      "ipywidgets              7.6.5\n",
      "itsdangerous            2.0.1\n",
      "jedi                    0.18.1\n",
      "Jinja2                  3.0.3\n",
      "joblib                  1.1.0\n",
      "jsonschema              3.2.0\n",
      "jupyter                 1.0.0\n",
      "jupyter-client          7.1.2\n",
      "jupyter-console         6.4.3\n",
      "jupyter-core            4.9.2\n",
      "jupyterlab-pygments     0.1.2\n",
      "jupyterlab-widgets      1.0.0\n",
      "kiwisolver              1.4.2\n",
      "Markdown                3.3.7\n",
      "MarkupSafe              2.0.1\n",
      "matplotlib              3.5.2\n",
      "matplotlib-inline       0.1.2\n",
      "menuinst                1.4.18\n",
      "mistune                 0.8.4\n",
      "mkl-fft                 1.3.1\n",
      "mkl-random              1.2.2\n",
      "mkl-service             2.4.0\n",
      "nb-conda-kernels        2.3.1\n",
      "nbclient                0.5.11\n",
      "nbconvert               6.1.0\n",
      "nbformat                5.1.3\n",
      "nest-asyncio            1.5.1\n",
      "notebook                6.4.8\n",
      "numpy                   1.22.4\n",
      "oauthlib                3.2.0\n",
      "opencv-python           4.6.0.66\n",
      "packaging               21.3\n",
      "pandas                  1.4.2\n",
      "pandocfilters           1.5.0\n",
      "parso                   0.8.3\n",
      "pickleshare             0.7.5\n",
      "Pillow                  9.1.1\n",
      "pip                     21.2.4\n",
      "pipreqs                 0.4.11\n",
      "prometheus-client       0.13.1\n",
      "prompt-toolkit          3.0.20\n",
      "protobuf                3.19.4\n",
      "psutil                  5.9.1\n",
      "pure-eval               0.2.2\n",
      "pyasn1                  0.4.8\n",
      "pyasn1-modules          0.2.8\n",
      "pycosat                 0.6.3\n",
      "pycparser               2.21\n",
      "Pygments                2.11.2\n",
      "pyOpenSSL               22.0.0\n",
      "pyparsing               3.0.4\n",
      "pyrsistent              0.18.0\n",
      "PySocks                 1.7.1\n",
      "python-dateutil         2.8.2\n",
      "pytz                    2022.1\n",
      "pywin32                 302\n",
      "pywinpty                2.0.2\n",
      "PyYAML                  6.0\n",
      "pyzmq                   22.3.0\n",
      "qtconsole               5.3.0\n",
      "QtPy                    2.0.1\n",
      "requests                2.27.1\n",
      "requests-oauthlib       1.3.1\n",
      "rsa                     4.8\n",
      "ruamel-yaml-conda       0.15.100\n",
      "scikit-learn            1.1.1\n",
      "scipy                   1.8.1\n",
      "seaborn                 0.11.2\n",
      "Send2Trash              1.8.0\n",
      "setuptools              58.0.4\n",
      "sip                     4.19.13\n",
      "six                     1.16.0\n",
      "stack-data              0.2.0\n",
      "tensorboard             2.9.1\n",
      "tensorboard-data-server 0.6.1\n",
      "tensorboard-plugin-wit  1.8.1\n",
      "terminado               0.13.1\n",
      "testpath                0.5.0\n",
      "thop                    0.0.31.post2005241907\n",
      "threadpoolctl           2.2.0\n",
      "torch                   1.11.0\n",
      "torchvision             0.12.0\n",
      "tornado                 6.1\n",
      "tqdm                    4.63.0\n",
      "traitlets               5.1.1\n",
      "typing_extensions       4.1.1\n",
      "urllib3                 1.26.8\n",
      "wcwidth                 0.2.5\n",
      "webencodings            0.5.1\n",
      "Werkzeug                2.1.2\n",
      "wheel                   0.37.1\n",
      "widgetsnbextension      3.5.2\n",
      "win-inet-pton           1.1.0\n",
      "wincertstore            0.2\n",
      "yarg                    0.1.9\n",
      "zipp                    3.7.0\n"
     ]
    }
   ],
   "source": [
    "# Nge-list versi module yang ada di komputer untuk ngecek versi sklearn dan pickle yang dipakai untuk prediksi\n",
    "!pip list"
   ]
  },
  {
   "cell_type": "markdown",
   "id": "66d1ce06",
   "metadata": {},
   "source": [
    "👨‍💻: \"scikit-learn versi 1.1.1, pickleshare versi 0.7.5 kalo yang di local, Cek versi module python yang ada **[di google colab](https://colab.research.google.com/drive/1y_53BuBKKBRz3udt2MCVUO2b_yBVkT9f?usp=sharing)** dulu deh.\"\n",
    "\n",
    "👨‍💻: \"Wah ternyata scikit-learn versi 1.0.2, pickleshare versi 0.7.5 kalo yang di Google Colab\""
   ]
  },
  {
   "cell_type": "code",
   "execution_count": 43,
   "id": "c057cb2d",
   "metadata": {},
   "outputs": [
    {
     "data": {
      "text/html": [
       "<style>#sk-container-id-3 {color: black;background-color: white;}#sk-container-id-3 pre{padding: 0;}#sk-container-id-3 div.sk-toggleable {background-color: white;}#sk-container-id-3 label.sk-toggleable__label {cursor: pointer;display: block;width: 100%;margin-bottom: 0;padding: 0.3em;box-sizing: border-box;text-align: center;}#sk-container-id-3 label.sk-toggleable__label-arrow:before {content: \"▸\";float: left;margin-right: 0.25em;color: #696969;}#sk-container-id-3 label.sk-toggleable__label-arrow:hover:before {color: black;}#sk-container-id-3 div.sk-estimator:hover label.sk-toggleable__label-arrow:before {color: black;}#sk-container-id-3 div.sk-toggleable__content {max-height: 0;max-width: 0;overflow: hidden;text-align: left;background-color: #f0f8ff;}#sk-container-id-3 div.sk-toggleable__content pre {margin: 0.2em;color: black;border-radius: 0.25em;background-color: #f0f8ff;}#sk-container-id-3 input.sk-toggleable__control:checked~div.sk-toggleable__content {max-height: 200px;max-width: 100%;overflow: auto;}#sk-container-id-3 input.sk-toggleable__control:checked~label.sk-toggleable__label-arrow:before {content: \"▾\";}#sk-container-id-3 div.sk-estimator input.sk-toggleable__control:checked~label.sk-toggleable__label {background-color: #d4ebff;}#sk-container-id-3 div.sk-label input.sk-toggleable__control:checked~label.sk-toggleable__label {background-color: #d4ebff;}#sk-container-id-3 input.sk-hidden--visually {border: 0;clip: rect(1px 1px 1px 1px);clip: rect(1px, 1px, 1px, 1px);height: 1px;margin: -1px;overflow: hidden;padding: 0;position: absolute;width: 1px;}#sk-container-id-3 div.sk-estimator {font-family: monospace;background-color: #f0f8ff;border: 1px dotted black;border-radius: 0.25em;box-sizing: border-box;margin-bottom: 0.5em;}#sk-container-id-3 div.sk-estimator:hover {background-color: #d4ebff;}#sk-container-id-3 div.sk-parallel-item::after {content: \"\";width: 100%;border-bottom: 1px solid gray;flex-grow: 1;}#sk-container-id-3 div.sk-label:hover label.sk-toggleable__label {background-color: #d4ebff;}#sk-container-id-3 div.sk-serial::before {content: \"\";position: absolute;border-left: 1px solid gray;box-sizing: border-box;top: 0;bottom: 0;left: 50%;z-index: 0;}#sk-container-id-3 div.sk-serial {display: flex;flex-direction: column;align-items: center;background-color: white;padding-right: 0.2em;padding-left: 0.2em;position: relative;}#sk-container-id-3 div.sk-item {position: relative;z-index: 1;}#sk-container-id-3 div.sk-parallel {display: flex;align-items: stretch;justify-content: center;background-color: white;position: relative;}#sk-container-id-3 div.sk-item::before, #sk-container-id-3 div.sk-parallel-item::before {content: \"\";position: absolute;border-left: 1px solid gray;box-sizing: border-box;top: 0;bottom: 0;left: 50%;z-index: -1;}#sk-container-id-3 div.sk-parallel-item {display: flex;flex-direction: column;z-index: 1;position: relative;background-color: white;}#sk-container-id-3 div.sk-parallel-item:first-child::after {align-self: flex-end;width: 50%;}#sk-container-id-3 div.sk-parallel-item:last-child::after {align-self: flex-start;width: 50%;}#sk-container-id-3 div.sk-parallel-item:only-child::after {width: 0;}#sk-container-id-3 div.sk-dashed-wrapped {border: 1px dashed gray;margin: 0 0.4em 0.5em 0.4em;box-sizing: border-box;padding-bottom: 0.4em;background-color: white;}#sk-container-id-3 div.sk-label label {font-family: monospace;font-weight: bold;display: inline-block;line-height: 1.2em;}#sk-container-id-3 div.sk-label-container {text-align: center;}#sk-container-id-3 div.sk-container {/* jupyter's `normalize.less` sets `[hidden] { display: none; }` but bootstrap.min.css set `[hidden] { display: none !important; }` so we also need the `!important` here to be able to override the default hidden behavior on the sphinx rendered scikit-learn.org. See: https://github.com/scikit-learn/scikit-learn/issues/21755 */display: inline-block !important;position: relative;}#sk-container-id-3 div.sk-text-repr-fallback {display: none;}</style><div id=\"sk-container-id-3\" class=\"sk-top-container\"><div class=\"sk-text-repr-fallback\"><pre>DecisionTreeClassifier(max_depth=5, max_leaf_nodes=9, random_state=42)</pre><b>In a Jupyter environment, please rerun this cell to show the HTML representation or trust the notebook. <br />On GitHub, the HTML representation is unable to render, please try loading this page with nbviewer.org.</b></div><div class=\"sk-container\" hidden><div class=\"sk-item\"><div class=\"sk-estimator sk-toggleable\"><input class=\"sk-toggleable__control sk-hidden--visually\" id=\"sk-estimator-id-3\" type=\"checkbox\" checked><label for=\"sk-estimator-id-3\" class=\"sk-toggleable__label sk-toggleable__label-arrow\">DecisionTreeClassifier</label><div class=\"sk-toggleable__content\"><pre>DecisionTreeClassifier(max_depth=5, max_leaf_nodes=9, random_state=42)</pre></div></div></div></div></div>"
      ],
      "text/plain": [
       "DecisionTreeClassifier(max_depth=5, max_leaf_nodes=9, random_state=42)"
      ]
     },
     "execution_count": 43,
     "metadata": {},
     "output_type": "execute_result"
    }
   ],
   "source": [
    "# Cek model\n",
    "model"
   ]
  },
  {
   "cell_type": "code",
   "execution_count": 79,
   "id": "f2fe6db2",
   "metadata": {},
   "outputs": [
    {
     "data": {
      "text/html": [
       "<style>#sk-container-id-5 {color: black;background-color: white;}#sk-container-id-5 pre{padding: 0;}#sk-container-id-5 div.sk-toggleable {background-color: white;}#sk-container-id-5 label.sk-toggleable__label {cursor: pointer;display: block;width: 100%;margin-bottom: 0;padding: 0.3em;box-sizing: border-box;text-align: center;}#sk-container-id-5 label.sk-toggleable__label-arrow:before {content: \"▸\";float: left;margin-right: 0.25em;color: #696969;}#sk-container-id-5 label.sk-toggleable__label-arrow:hover:before {color: black;}#sk-container-id-5 div.sk-estimator:hover label.sk-toggleable__label-arrow:before {color: black;}#sk-container-id-5 div.sk-toggleable__content {max-height: 0;max-width: 0;overflow: hidden;text-align: left;background-color: #f0f8ff;}#sk-container-id-5 div.sk-toggleable__content pre {margin: 0.2em;color: black;border-radius: 0.25em;background-color: #f0f8ff;}#sk-container-id-5 input.sk-toggleable__control:checked~div.sk-toggleable__content {max-height: 200px;max-width: 100%;overflow: auto;}#sk-container-id-5 input.sk-toggleable__control:checked~label.sk-toggleable__label-arrow:before {content: \"▾\";}#sk-container-id-5 div.sk-estimator input.sk-toggleable__control:checked~label.sk-toggleable__label {background-color: #d4ebff;}#sk-container-id-5 div.sk-label input.sk-toggleable__control:checked~label.sk-toggleable__label {background-color: #d4ebff;}#sk-container-id-5 input.sk-hidden--visually {border: 0;clip: rect(1px 1px 1px 1px);clip: rect(1px, 1px, 1px, 1px);height: 1px;margin: -1px;overflow: hidden;padding: 0;position: absolute;width: 1px;}#sk-container-id-5 div.sk-estimator {font-family: monospace;background-color: #f0f8ff;border: 1px dotted black;border-radius: 0.25em;box-sizing: border-box;margin-bottom: 0.5em;}#sk-container-id-5 div.sk-estimator:hover {background-color: #d4ebff;}#sk-container-id-5 div.sk-parallel-item::after {content: \"\";width: 100%;border-bottom: 1px solid gray;flex-grow: 1;}#sk-container-id-5 div.sk-label:hover label.sk-toggleable__label {background-color: #d4ebff;}#sk-container-id-5 div.sk-serial::before {content: \"\";position: absolute;border-left: 1px solid gray;box-sizing: border-box;top: 0;bottom: 0;left: 50%;z-index: 0;}#sk-container-id-5 div.sk-serial {display: flex;flex-direction: column;align-items: center;background-color: white;padding-right: 0.2em;padding-left: 0.2em;position: relative;}#sk-container-id-5 div.sk-item {position: relative;z-index: 1;}#sk-container-id-5 div.sk-parallel {display: flex;align-items: stretch;justify-content: center;background-color: white;position: relative;}#sk-container-id-5 div.sk-item::before, #sk-container-id-5 div.sk-parallel-item::before {content: \"\";position: absolute;border-left: 1px solid gray;box-sizing: border-box;top: 0;bottom: 0;left: 50%;z-index: -1;}#sk-container-id-5 div.sk-parallel-item {display: flex;flex-direction: column;z-index: 1;position: relative;background-color: white;}#sk-container-id-5 div.sk-parallel-item:first-child::after {align-self: flex-end;width: 50%;}#sk-container-id-5 div.sk-parallel-item:last-child::after {align-self: flex-start;width: 50%;}#sk-container-id-5 div.sk-parallel-item:only-child::after {width: 0;}#sk-container-id-5 div.sk-dashed-wrapped {border: 1px dashed gray;margin: 0 0.4em 0.5em 0.4em;box-sizing: border-box;padding-bottom: 0.4em;background-color: white;}#sk-container-id-5 div.sk-label label {font-family: monospace;font-weight: bold;display: inline-block;line-height: 1.2em;}#sk-container-id-5 div.sk-label-container {text-align: center;}#sk-container-id-5 div.sk-container {/* jupyter's `normalize.less` sets `[hidden] { display: none; }` but bootstrap.min.css set `[hidden] { display: none !important; }` so we also need the `!important` here to be able to override the default hidden behavior on the sphinx rendered scikit-learn.org. See: https://github.com/scikit-learn/scikit-learn/issues/21755 */display: inline-block !important;position: relative;}#sk-container-id-5 div.sk-text-repr-fallback {display: none;}</style><div id=\"sk-container-id-5\" class=\"sk-top-container\"><div class=\"sk-text-repr-fallback\"><pre>StandardScaler()</pre><b>In a Jupyter environment, please rerun this cell to show the HTML representation or trust the notebook. <br />On GitHub, the HTML representation is unable to render, please try loading this page with nbviewer.org.</b></div><div class=\"sk-container\" hidden><div class=\"sk-item\"><div class=\"sk-estimator sk-toggleable\"><input class=\"sk-toggleable__control sk-hidden--visually\" id=\"sk-estimator-id-5\" type=\"checkbox\" checked><label for=\"sk-estimator-id-5\" class=\"sk-toggleable__label sk-toggleable__label-arrow\">StandardScaler</label><div class=\"sk-toggleable__content\"><pre>StandardScaler()</pre></div></div></div></div></div>"
      ],
      "text/plain": [
       "StandardScaler()"
      ]
     },
     "execution_count": 79,
     "metadata": {},
     "output_type": "execute_result"
    }
   ],
   "source": [
    "# Cek scaler\n",
    "scaler"
   ]
  },
  {
   "cell_type": "markdown",
   "id": "6d4b19d8",
   "metadata": {},
   "source": [
    "👨‍💻: \"Mantab, `model` dan `scaler` udah berhasil di load. Saatnya coba _predict_\""
   ]
  },
  {
   "cell_type": "code",
   "execution_count": 81,
   "id": "6f4bfb41",
   "metadata": {},
   "outputs": [
    {
     "data": {
      "text/plain": [
       "[[37, 3, 0, 0, 157]]"
      ]
     },
     "execution_count": 81,
     "metadata": {},
     "output_type": "execute_result"
    }
   ],
   "source": [
    "# Cobain pakai data prediksi. Data ini nantinya akan didapatkan \n",
    "# dari form aplikasi flask. Nanti akan dipelajari lebih lanjut\n",
    "# di domain Technical Skills\n",
    "\n",
    "# Data prediksi ini disamakan dengan data contoh prediksi di google colab\n",
    "tingkat_kepuasan = 37\n",
    "lama_bekerja = 3\n",
    "kecelakaan_kerja = 0\n",
    "gaji = 0\n",
    "jam_kerja_per_bulan = 157\n",
    "\n",
    "# Data dibuat 2 dimensi untuk proses prediksi\n",
    "data = [[tingkat_kepuasan, lama_bekerja, kecelakaan_kerja, gaji, jam_kerja_per_bulan]]\n",
    "\n",
    "# Print data\n",
    "data"
   ]
  },
  {
   "cell_type": "markdown",
   "id": "4c4ecda2",
   "metadata": {},
   "source": [
    "👨‍💻: \"Ok, datanya udah siap di-scaling\""
   ]
  },
  {
   "cell_type": "code",
   "execution_count": 80,
   "id": "243aae3e",
   "metadata": {},
   "outputs": [
    {
     "data": {
      "text/plain": [
       "array([[150.87635991,  -0.28169781,  -0.4291824 ,  -0.94877465,\n",
       "         -0.90035548]])"
      ]
     },
     "execution_count": 80,
     "metadata": {},
     "output_type": "execute_result"
    }
   ],
   "source": [
    "# Karena data pada saat training dilakukan preprocessing\n",
    "# yaitu proses scaling, data input pun harus di-scaling\n",
    "scaled_data = scaler.transform(data)\n",
    "\n",
    "# Cek hasil scaling\n",
    "scaled_data"
   ]
  },
  {
   "cell_type": "markdown",
   "id": "5990701b",
   "metadata": {},
   "source": [
    "👨‍💻: \"Ok, datanya udah siap dipakai untuk prediksi\""
   ]
  },
  {
   "cell_type": "code",
   "execution_count": 89,
   "id": "463a2524",
   "metadata": {},
   "outputs": [
    {
     "name": "stdout",
     "output_type": "stream",
     "text": [
      "[0]\n"
     ]
    },
    {
     "data": {
      "text/plain": [
       "array([[0.99059911, 0.00940089]])"
      ]
     },
     "execution_count": 89,
     "metadata": {},
     "output_type": "execute_result"
    }
   ],
   "source": [
    "print(model.predict(scaled_data)) # Resign / Tidak resign\n",
    "model.predict_proba(scaled_data) # Nilai probalitas, ambil yang maksimalnya."
   ]
  },
  {
   "cell_type": "code",
   "execution_count": 97,
   "id": "ca274b12",
   "metadata": {},
   "outputs": [
    {
     "name": "stdout",
     "output_type": "stream",
     "text": [
      "Diprediksi 99.06% Tidak Resign\n"
     ]
    }
   ],
   "source": [
    "is_resign = model.predict(scaled_data).flatten()\n",
    "nilai_kepercayaan = max(model.predict_proba(scaled_data).flatten()) * 100 # dikali 100 persen\n",
    "\n",
    "result = \"\"\n",
    "if is_resign == 1:\n",
    "    result = \"Resign\"\n",
    "else:\n",
    "    result = \"Tidak Resign\"\n",
    "    \n",
    "\n",
    "print(f\"Diprediksi {nilai_kepercayaan:.2f}% {result}\")"
   ]
  },
  {
   "cell_type": "markdown",
   "id": "88cf694b",
   "metadata": {},
   "source": [
    "- 0: Tidak Resign\n",
    "- 1: Resign\n",
    "\n",
    "👨‍💻: \"Wait, kok prediksinya `Tidak Resign` sih? kan harusnya `88% Resign` kalo diliat dari hasil prediksi di **[di google colab](https://colab.research.google.com/drive/1y_53BuBKKBRz3udt2MCVUO2b_yBVkT9f?usp=sharing)**. Hmmm 🤔, kayanya ini versi `sklearn` ngaruh deh. Coba samain aja deh versinya sama yang di google colab.\"\n",
    "\n",
    "Tim deployment pun menginstall library / module `sklearn` di environment yang baru dengan menggunakan perintah berikut pada terminal\n",
    "\n",
    "```bash\n",
    "conda create -n prediksi-karyawan-resign python=3.8 scikit-learn=1.0.2 nb_conda_kernels\n",
    "```"
   ]
  },
  {
   "cell_type": "markdown",
   "id": "72cebb36",
   "metadata": {},
   "source": [
    "👨‍💻: \"Mantap, environment udah jadi, tinggal jalanin ulang notebook ini pakai environment `prediksi-karyawan-resign`\".\n",
    "\n",
    "```bash\n",
    "conda activate prediksi-karyawan-resign\n",
    "jupyter notebook\n",
    "```"
   ]
  },
  {
   "cell_type": "code",
   "execution_count": null,
   "id": "62e175f6",
   "metadata": {},
   "outputs": [],
   "source": []
  }
 ],
 "metadata": {
  "kernelspec": {
   "display_name": "Python [conda env:root] *",
   "language": "python",
   "name": "conda-root-py"
  },
  "language_info": {
   "codemirror_mode": {
    "name": "ipython",
    "version": 3
   },
   "file_extension": ".py",
   "mimetype": "text/x-python",
   "name": "python",
   "nbconvert_exporter": "python",
   "pygments_lexer": "ipython3",
   "version": "3.9.7"
  }
 },
 "nbformat": 4,
 "nbformat_minor": 5
}
